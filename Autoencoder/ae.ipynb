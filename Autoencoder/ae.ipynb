{
 "cells": [
  {
   "cell_type": "markdown",
   "metadata": {},
   "source": [
    "Autoencoder\n"
   ]
  },
  {
   "cell_type": "code",
   "execution_count": null,
   "metadata": {},
   "outputs": [],
   "source": [
    "from torch import nn,rand_like\n",
    "\n",
    "class Autoencoder(nn.Module):\n",
    "        def __init__(self, input_dim,latent_dim=2):\n",
    "            super().__init__()\n",
    "            self.encoder = nn.Sequential(\n",
    "                nn.Linear(input_dim,128),\n",
    "                nn.BatchNorm1d(128),\n",
    "                nn.ReLU(),\n",
    "                nn.Linear(128,64),\n",
    "                nn.BatchNorm1d(64),\n",
    "                nn.ReLU(),\n",
    "                nn.Linear(64,latent_dim),\n",
    "                nn.BatchNorm1d(latent_dim),\n",
    "                nn.ReLU()\n",
    "            )\n",
    "            self.decoder = nn.Sequential(\n",
    "                nn.Linear(latent_dim,64),\n",
    "                nn.BatchNorm1d(64),\n",
    "                nn.ReLU(),\n",
    "                nn.Linear(64,128),\n",
    "                nn.BatchNorm1d(128),\n",
    "                nn.ReLU(),\n",
    "                nn.Linear(128,input_dim),\n",
    "                nn.BatchNorm1d(input_dim),\n",
    "                nn.ReLU()\n",
    "            )\n",
    "           \n",
    "        def forward(self,x,noise_rate = 0.3):\n",
    "            x = x + rand_like(x)* noise_rate\n",
    "            x = self.encoder(x)\n",
    "            x = self.decoder(x)\n",
    "            return x\n",
    "            \n",
    "\n"
   ]
  },
  {
   "cell_type": "markdown",
   "metadata": {},
   "source": [
    "Dataset"
   ]
  },
  {
   "cell_type": "code",
   "execution_count": null,
   "metadata": {},
   "outputs": [],
   "source": [
    "from torchvision.datasets import MNIST\n",
    "import torchvision.transforms as transforms\n",
    "from torch.utils.data import DataLoader\n",
    "\n",
    "train_dataset = MNIST(root='MNIST',transform = transforms.ToTensor())\n",
    "\n",
    "batch_size_ = 100\n",
    "\n",
    "train_loader = DataLoader(train_dataset,\n",
    "                          batch_size= batch_size_,\n",
    "                          shuffle = True)"
   ]
  },
  {
   "cell_type": "markdown",
   "metadata": {},
   "source": [
    "Learning loop\n"
   ]
  },
  {
   "cell_type": "code",
   "execution_count": null,
   "metadata": {},
   "outputs": [],
   "source": [
    "from torch.nn.functional import mse_loss\n",
    "from torch.optim import Adam\n",
    "\n",
    "model = Autoencoder(784)\n",
    "opt = Adam(model.parameters(), lr = 0.01)\n",
    "\n",
    "n_epochs = 3\n",
    "for epoch in range(n_epochs):\n",
    "    for image,label in train_loader:\n",
    "        opt.zero_grad() \n",
    "        image = image.reshape(-1,28*28)\n",
    "        print(image.shape)\n",
    "        y_pred = model(image)\n",
    "        loss = mse_loss(y_pred,image)\n",
    "        print(f'Epoch №{epoch + 1} Loss: ',loss)\n",
    "        loss.backward()\n",
    "        opt.step()"
   ]
  },
  {
   "cell_type": "code",
   "execution_count": null,
   "metadata": {},
   "outputs": [],
   "source": [
    "import matplotlib.pyplot as plt\n",
    "\n",
    "for image , i in train_loader: \n",
    "    image = image.reshape(-1,28*28)\n",
    "    y_pred = model(image)\n",
    "    y_pred = y_pred.reshape(-1,28,28)\n",
    "    #plt.imshow(y_pred[0].detach().numpy(),cmap = 'gray')\n",
    "    image = image.reshape(-1,28,28)\n",
    "    plt.imshow(image[0],cmap = 'gray')\n",
    "    break\n"
   ]
  },
  {
   "cell_type": "code",
   "execution_count": null,
   "metadata": {},
   "outputs": [],
   "source": [
    "for image , i in train_loader: \n",
    "    image = image.reshape(-1,28*28)\n",
    "    y_pred = model(image)\n",
    "    y_pred = y_pred.reshape(-1,28,28)\n",
    "    print(y_pred[0].shape)\n",
    "    plt.imshow(y_pred[0].detach().numpy(),cmap = 'gray')\n",
    "    break"
   ]
  }
 ],
 "metadata": {
  "interpreter": {
   "hash": "916dbcbb3f70747c44a77c7bcd40155683ae19c65e1c03b4aa3499c5328201f1"
  },
  "kernelspec": {
   "display_name": "Python 3.8.10 64-bit",
   "language": "python",
   "name": "python3"
  },
  "language_info": {
   "codemirror_mode": {
    "name": "ipython",
    "version": 3
   },
   "file_extension": ".py",
   "mimetype": "text/x-python",
   "name": "python",
   "nbconvert_exporter": "python",
   "pygments_lexer": "ipython3",
   "version": "3.8.10"
  },
  "orig_nbformat": 4
 },
 "nbformat": 4,
 "nbformat_minor": 2
}
