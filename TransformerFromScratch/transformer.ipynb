{
 "cells": [
  {
   "cell_type": "code",
   "execution_count": 1,
   "metadata": {},
   "outputs": [],
   "source": [
    "import pandas as pd\n",
    "from sklearn.model_selection import train_test_split\n",
    "import torch\n",
    "from torch.utils.data import Dataset, DataLoader\n",
    "from torch import nn\n",
    "from torch import optim\n",
    "import torch.nn.functional as F"
   ]
  },
  {
   "cell_type": "markdown",
   "metadata": {},
   "source": [
    "## Подготовим данные"
   ]
  },
  {
   "cell_type": "code",
   "execution_count": 3,
   "metadata": {},
   "outputs": [
    {
     "data": {
      "text/html": [
       "<div>\n",
       "<style scoped>\n",
       "    .dataframe tbody tr th:only-of-type {\n",
       "        vertical-align: middle;\n",
       "    }\n",
       "\n",
       "    .dataframe tbody tr th {\n",
       "        vertical-align: top;\n",
       "    }\n",
       "\n",
       "    .dataframe thead th {\n",
       "        text-align: right;\n",
       "    }\n",
       "</style>\n",
       "<table border=\"1\" class=\"dataframe\">\n",
       "  <thead>\n",
       "    <tr style=\"text-align: right;\">\n",
       "      <th></th>\n",
       "      <th>id</th>\n",
       "      <th>text</th>\n",
       "      <th>label</th>\n",
       "    </tr>\n",
       "  </thead>\n",
       "  <tbody>\n",
       "    <tr>\n",
       "      <th>52319</th>\n",
       "      <td>110638</td>\n",
       "      <td>Чот вторую часть пока догнать не могу.</td>\n",
       "      <td>0</td>\n",
       "    </tr>\n",
       "    <tr>\n",
       "      <th>9581</th>\n",
       "      <td>99687</td>\n",
       "      <td>За третье место 250 австралийских долларов. Ну...</td>\n",
       "      <td>2</td>\n",
       "    </tr>\n",
       "    <tr>\n",
       "      <th>72363</th>\n",
       "      <td>59838</td>\n",
       "      <td>на 3к строк кроме как поиграться с word2vec за...</td>\n",
       "      <td>2</td>\n",
       "    </tr>\n",
       "    <tr>\n",
       "      <th>58152</th>\n",
       "      <td>36932</td>\n",
       "      <td>Д 37.СТРОЙН.ПОЗН с Парнем до 40.С/О ДНЕПРОДЗ.А...</td>\n",
       "      <td>1</td>\n",
       "    </tr>\n",
       "    <tr>\n",
       "      <th>73412</th>\n",
       "      <td>40192</td>\n",
       "      <td>Мне сказали, мало ритейла с мл</td>\n",
       "      <td>2</td>\n",
       "    </tr>\n",
       "  </tbody>\n",
       "</table>\n",
       "</div>"
      ],
      "text/plain": [
       "           id                                               text  label\n",
       "52319  110638             Чот вторую часть пока догнать не могу.      0\n",
       "9581    99687  За третье место 250 австралийских долларов. Ну...      2\n",
       "72363   59838  на 3к строк кроме как поиграться с word2vec за...      2\n",
       "58152   36932  Д 37.СТРОЙН.ПОЗН с Парнем до 40.С/О ДНЕПРОДЗ.А...      1\n",
       "73412   40192                     Мне сказали, мало ритейла с мл      2"
      ]
     },
     "execution_count": 3,
     "metadata": {},
     "output_type": "execute_result"
    }
   ],
   "source": [
    "df = pd.read_csv('train.csv')\n",
    "train_df, test_df = train_test_split(df, test_size=0.1, shuffle = True, random_state = 666)\n",
    "train_df.sample(5)"
   ]
  },
  {
   "cell_type": "code",
   "execution_count": 21,
   "metadata": {},
   "outputs": [],
   "source": [
    "class Vocab:\n",
    "    def __init__(self, texts):\n",
    "        self.id2token = ['<bos>', '<eos>', '<unk>', '<pad>', '<mask>']\n",
    "        self.id2token += list(set([char for text in texts for char in text]))\n",
    "        self.token2id = {char: i for i, char in enumerate(self.id2token)}\n",
    "        self.UNK = self.token2id['<unk>']\n",
    "        self.EOS = self.token2id['<eos>']\n",
    "        self.BOS = self.token2id['<bos>']\n",
    "        self.PAD = self.token2id['<pad>']\n",
    "        self.MASK = self.token2id['<mask>']\n",
    "        \n",
    "    def text2id(self, text: str) -> list:\n",
    "        return [self.token2id.get(char, self.UNK) for char in text] \n",
    "        \n",
    "    def id2text(self,ids:list)->str:\n",
    "        return \"\".join([self.id2token[i] for i in ids]) #все строки сложили\n",
    "    \n",
    "    def __len__(self):\n",
    "        return len(self.id2token)"
   ]
  },
  {
   "cell_type": "code",
   "execution_count": 22,
   "metadata": {},
   "outputs": [
    {
     "name": "stdout",
     "output_type": "stream",
     "text": [
      "[209, 121, 341, 103, 582, 78, 244, 413, 21, 413, 244, 381, 582, 340, 21]\n"
     ]
    }
   ],
   "source": [
    "vocab = Vocab(train_df['text'].tolist())\n",
    "text = 'привет как дела'\n",
    "ids = vocab.text2id(text)\n",
    "new_text = vocab.id2text(ids)\n",
    "print(ids)\n",
    "assert text == new_text"
   ]
  },
  {
   "cell_type": "markdown",
   "metadata": {},
   "source": [
    "### 1.2 Dataset"
   ]
  },
  {
   "cell_type": "code",
   "execution_count": 24,
   "metadata": {},
   "outputs": [],
   "source": [
    "class MyDataset(Dataset):\n",
    "    def __init__(self, df, vocab ):\n",
    "        super().__init__()\n",
    "        self.vocab = vocab\n",
    "        self.df = df\n",
    "        \n",
    "    def __len__(self):\n",
    "        return len(self.df)\n",
    "    \n",
    "    def __getitem__(self, idx):\n",
    "        # торч ожидает что возвращается тупль\n",
    "        row = self.df.iloc[idx] #забираем всю строку из dataframe\n",
    "        text, label = row['text'], row['label']\n",
    "        ids = self.vocab.text2id(text)\n",
    "        ids = torch.tensor(ids)\n",
    "        return ids, label"
   ]
  },
  {
   "cell_type": "code",
   "execution_count": 25,
   "metadata": {},
   "outputs": [
    {
     "name": "stdout",
     "output_type": "stream",
     "text": [
      "72000\n"
     ]
    },
    {
     "data": {
      "text/plain": [
       "(tensor([ 57,  21, 346, 244, 340, 199, 262, 340, 199, 244,  78, 442, 413,  21,\n",
       "         244,  78, 582, 262, 346, 529, 341,  57, 103, 582,  87, 341, 244,  78,\n",
       "         442, 413,  21, 244,  78, 582, 262, 346, 244, 341,  57, 103, 582,  87,\n",
       "         341, 244, 363,  78, 442, 244, 346, 244,  87, 582, 244, 209, 442,  87,\n",
       "         341, 301,  21, 340,  21, 244,  73,  78, 442, 460, 442, 244, 121,  21,\n",
       "          87, 189, 132, 582, 529,  78, 103, 442, 346, 244, 413, 341, 305, 199,\n",
       "         529, 340, 199, 262, 340, 199, 529, 244, 449, 381, 301, 341,  87, 244,\n",
       "         209, 121, 341, 381, 582, 121, 166, 341]),\n",
       " 1)"
      ]
     },
     "execution_count": 25,
     "metadata": {},
     "output_type": "execute_result"
    }
   ],
   "source": [
    "ds = MyDataset(train_df, vocab)\n",
    "print(len(ds))\n",
    "ds[100]"
   ]
  },
  {
   "cell_type": "code",
   "execution_count": 26,
   "metadata": {},
   "outputs": [],
   "source": [
    "from torch.nn.utils.rnn import pad_sequence\n",
    "PAD = vocab.PAD\n",
    "def collate_fn(batch): #на вход мписок туплей ids, label\n",
    "    lens =torch.tensor([len(x) for x, y in batch]) #длины всех последовательностей\n",
    "    batch_labels = torch.tensor([y for x, y in batch])\n",
    "    seqs = [x for x, y in batch]\n",
    "    batch_ids = pad_sequence(seqs, batch_first = True, padding_value = PAD) #падит по длине(делае м одной длины)\n",
    "    return {'x':batch_ids, 'lens': lens}, batch_labels\n",
    "#вернем тупль из тензеров/словарей 1 элемент - x  2- y(то что в loss)\n",
    "# в нашем случае вернем словарь"
   ]
  },
  {
   "cell_type": "code",
   "execution_count": 27,
   "metadata": {},
   "outputs": [
    {
     "data": {
      "text/plain": [
       "tensor([[126,  21, 121,  ...,   3,   3,   3],\n",
       "        [ 78, 442, 244,  ...,   3,   3,   3],\n",
       "        [126, 442, 381,  ...,  78, 189, 307],\n",
       "        ...,\n",
       "        [294, 244, 121,  ...,   3,   3,   3],\n",
       "        [327, 529, 361,  ...,   3,   3,   3],\n",
       "        [529, 581, 145,  ...,   3,   3,   3]])"
      ]
     },
     "execution_count": 27,
     "metadata": {},
     "output_type": "execute_result"
    }
   ],
   "source": [
    "dl = DataLoader(ds, batch_size = 8, shuffle = True, collate_fn = collate_fn)\n",
    "batch = next(iter(dl))\n",
    "batch[0]['x']"
   ]
  },
  {
   "cell_type": "markdown",
   "metadata": {},
   "source": [
    "## 2 Model"
   ]
  },
  {
   "cell_type": "code",
   "execution_count": 28,
   "metadata": {},
   "outputs": [],
   "source": [
    "# предсказываем класс текста\n",
    "# BERT: Transf Enc\n",
    "# GPT: Transf Dec"
   ]
  },
  {
   "cell_type": "code",
   "execution_count": 29,
   "metadata": {},
   "outputs": [],
   "source": [
    "class ClassificationTransformer(nn.Module):\n",
    "    def __init__(self, d, vocab_size,  n_head, d_hid, n_blocks, n_classes):\n",
    "        super().__init__()\n",
    "        self.emb = nn.Embedding(vocab_size, d, padding_idx = PAD)#по id получаем эмбединги\n",
    "        # TODO pos embedings не смертельная необходимость\n",
    "        Layers = [TransformerEncoderBlock(d, n_head, d_hid) for i in range(n_blocks)]\n",
    "        self.enc = nn.Sequential(*Layers)# n трансформерных блоков\n",
    "        self.clf = nn.Linear(d, n_classes)    \n",
    "            \n",
    "    def forward(self, x_batch): \n",
    "        # TODO padding\n",
    "        out = self.emb(x_batch['x'])\n",
    "        out = self.enc(out)\n",
    "        out = self.clf(out[:, 0, :])\n",
    "        return out\n",
    "    "
   ]
  },
  {
   "attachments": {
    "1.png": {
     "image/png": "[encoded data removed]"
    }
   },
   "cell_type": "markdown",
   "metadata": {},
   "source": [
    "![1.png](attachment:1.png)"
   ]
  },
  {
   "cell_type": "code",
   "execution_count": 66,
   "metadata": {},
   "outputs": [],
   "source": [
    "import math\n",
    "\n",
    "def pos_emb(max_len, d):\n",
    "    pe = torch.zeros(max_len, d)\n",
    "    position = torch.arange(0, max_len).unsqueeze(1)\n",
    "    div =torch.exp(torch.arange(0, d, 2)) *-(math.log(1000.0) / d)\n",
    "    pe[:, 0::2] = torch.sin(position * div)\n",
    "    pe[:, 1::2] = torch.cos(position * div)\n",
    "    return pe\n",
    "    \n",
    "class MLMTransformer(nn.Module):\n",
    "    def __init__(self, d, vocab_size,  n_head, d_hid, n_blocks):\n",
    "        super().__init__()\n",
    "        self.emb = nn.Embedding(vocab_size, d, padding_idx = PAD)#по id получаем эмбединги\n",
    "        # TODO pos embedings не смертельная необходимость\n",
    "        Layers = [TransformerEncoderBlock(d, n_head, d_hid) for i in range(n_blocks)]\n",
    "        self.enc = nn.Sequential(*Layers)# n трансформерных блоков\n",
    "        self.clf = nn.Linear(d, vocab_size)    \n",
    "            \n",
    "    def forward(self, x_batch):\n",
    "        # TODO padding\n",
    "        out = self.emb(x_batch)\n",
    "        out = out + pos_emb(out.shape[1], out.shape[2])\n",
    "        out = self.enc(out)\n",
    "        out = self.clf(out)\n",
    "        return out"
   ]
  },
  {
   "cell_type": "code",
   "execution_count": 44,
   "metadata": {},
   "outputs": [],
   "source": [
    "class TransformerEncoderBlock(nn.Module):\n",
    "    def __init__(self,d, n_head, d_hid):\n",
    "        super().__init__()\n",
    "        self.ln1 = nn.LayerNorm(d) #ADD&NORM\n",
    "        self.ln2 = nn.LayerNorm(d)  #ADD&NORM\n",
    "        self.mha = MultiHeadAttention(d, n_head)\n",
    "        self.ffd = nn.Sequential(\n",
    "            nn.Linear(d, d_hid),\n",
    "            nn.ReLU(),\n",
    "            nn.Linear(d_hid, d)\n",
    "        )\n",
    "        \n",
    "    def forward(self, x):\n",
    "        residual = x\n",
    "        x = self.mha(x)\n",
    "        x = self.ln1(x + residual)\n",
    "        residual = x\n",
    "        x = self.ffd(x)\n",
    "        x = self.ln2(x + residual)\n",
    "        return x\n",
    "        "
   ]
  },
  {
   "cell_type": "code",
   "execution_count": 45,
   "metadata": {},
   "outputs": [],
   "source": [
    "class MultiHeadAttention(nn.Module):\n",
    "    def __init__(self, d, n_head):\n",
    "        super().__init__()\n",
    "        self.heads = nn.ModuleList()\n",
    "        for i in range(n_head):\n",
    "            self.heads.append(OneHeadAttention(d, n_head))\n",
    "        self.out_proj = nn.Linear(n_head*d, d, bias = True)\n",
    "    def forward(self, x):\n",
    "        out_heads = []\n",
    "        for head in self.heads:\n",
    "            out_heads.append(head(x))\n",
    "        out = torch.cat(out_heads, dim = -1)\n",
    "        out = self.out_proj(out)\n",
    "        return out  "
   ]
  },
  {
   "cell_type": "code",
   "execution_count": 46,
   "metadata": {},
   "outputs": [],
   "source": [
    "class OneHeadAttention(nn.Module):\n",
    "        def __init__(self, d, n_head):\n",
    "            super().__init__()\n",
    "            self.q = nn.Linear(d, d, bias = False)\n",
    "            self.k = nn.Linear(d, d, bias = False)\n",
    "            self.v = nn.Linear(d, d, bias = False)\n",
    "            self.d = d\n",
    "        def forward(self, x):\n",
    "            q = self.q(x)\n",
    "            k = self.k(x)\n",
    "            v = self.v(x)\n",
    "            out = torch.matmul(q.transpose(1,2), k)/ self.d **0.5 #.transpose(1,2) меняем размерности местами\n",
    "            out = F.softmax(out, dim = -1)\n",
    "            out = out @ v.transpose(1, 2)\n",
    "            return out.transpose(1, 2)       \n",
    "            "
   ]
  },
  {
   "cell_type": "code",
   "execution_count": 47,
   "metadata": {},
   "outputs": [
    {
     "data": {
      "text/plain": [
       "torch.Size([8, 3])"
      ]
     },
     "execution_count": 47,
     "metadata": {},
     "output_type": "execute_result"
    }
   ],
   "source": [
    "model = ClassificationTransformer(vocab_size = len(vocab),\n",
    "                                  d = 32, n_head = 4, d_hid = 64, \n",
    "                                  n_blocks = 2, n_classes = 3\n",
    "                                 )\n",
    "\n",
    "out = model(batch[0])\n",
    "out.shape"
   ]
  },
  {
   "cell_type": "markdown",
   "metadata": {},
   "source": [
    "## 3 Train loop"
   ]
  },
  {
   "cell_type": "code",
   "execution_count": 48,
   "metadata": {},
   "outputs": [],
   "source": [
    "from sklearn.metrics import f1_score\n",
    "\n",
    "def test(model, test_df):\n",
    "    ds = MyDataset(test_df, vocab)\n",
    "    dl = DataLoader(ds, batch_size =8, shuffle = False, collate_fn = collate_fn)\n",
    "    y_preds = []\n",
    "    for x_batch, y_batch in dl:\n",
    "        \n",
    "        y_pred = model(x_batch)\n",
    "        y_preds.append(y_pred) # список тензеров 8*3\n",
    "    \n",
    "    y_preds = torch.cat(y_preds, dim = 0)\n",
    "    torch.argmax(y_preds, dim =-1).numpy() #нужно взять номер максимального\n",
    "    return f1_score(test_df['label'], y_preds, average='micro')\n",
    "        "
   ]
  },
  {
   "cell_type": "code",
   "execution_count": 49,
   "metadata": {},
   "outputs": [],
   "source": [
    "from tqdm import tqdm_notebook as tqdm"
   ]
  },
  {
   "cell_type": "code",
   "execution_count": null,
   "metadata": {},
   "outputs": [],
   "source": [
    "lr=0.001\n",
    "num_epoch = 10\n",
    "\n",
    "dl = DataLoader(ds, batch_size = 8, shuffle = True, collate_fn = collate_fn)\n",
    "model = ClassificationTransformer(vocab_size = len(vocab),\n",
    "                                  d = 32, n_head = 4, d_hid = 64, \n",
    "                                  n_blocks = 2, n_classes = 3\n",
    "                                 )\n",
    "opt = optim.Adam(model.parameters(), lr = lr)\n",
    "\n",
    "for epoch in range(num_epoch):\n",
    "    model.train()\n",
    "    for num_step, (x_batch, y_batch) in tqdm(enumerate(dl)):\n",
    "        opt.zero_grad()\n",
    "        y_pred = model(x_batch)\n",
    "        loss = F.cross_entropy(y_pred, y_batch) #внутри сам считает softma[ ]\n",
    "        loss.backward()\n",
    "        opt.step()\n",
    "        if num_step %10000 == 0:\n",
    "            print(loss.item())\n",
    "        \n",
    "    model.eval()\n",
    "    score = test(model, test_df)\n",
    "    print(epoch, score)"
   ]
  },
  {
   "cell_type": "code",
   "execution_count": null,
   "metadata": {},
   "outputs": [],
   "source": [
    "lr=0.001\n",
    "num_epoch = 10\n",
    "p = 0.15\n",
    "\n",
    "dl = DataLoader(ds, batch_size = 8, shuffle = True, collate_fn = collate_fn)\n",
    "model = MLMTransformer(vocab_size = len(vocab),\n",
    "                                  d = 32, n_head = 4, d_hid = 64, \n",
    "                                  n_blocks = 2\n",
    "                                 )\n",
    "opt = optim.Adam(model.parameters(), lr = lr)\n",
    "\n",
    "for epoch in range(num_epoch):\n",
    "    model.train()\n",
    "    for num_step, (x_batch, y_batch) in tqdm(enumerate(dl)):\n",
    "        opt.zero_grad()\n",
    "        x_batch = x_batch['x']\n",
    "        # 1-сгенерировать маску с размерностью как ч батча\n",
    "        mask = torch.rand(x_batch.shape) < p\n",
    "        # 2-меняем вход для модели\n",
    "        x_batch_ = x_batch.clone()\n",
    "        x_batch[mask] = vocab.MASK\n",
    "        # 3-надо скопировать батч чтобы использовать как y в loss\n",
    "        y_pred = model(x_batch)\n",
    "        loss = F.cross_entropy(y_pred.transpose(1,2), x_batch, reduction='none' ) #внутри сам считает softma[ ]\n",
    "        loss = (loss * mask.float()).sum()/mask.sum()\n",
    "        loss.backward()\n",
    "        opt.step()\n",
    "        if num_step %100 == 0:\n",
    "            print(loss.item())\n",
    "        \n",
    "    model.eval()\n",
    "    score = test(model, test_df)\n",
    "    print(epoch, score)"
   ]
  }
 ],
 "metadata": {
  "kernelspec": {
   "display_name": "Python 3",
   "language": "python",
   "name": "python3"
  },
  "language_info": {
   "codemirror_mode": {
    "name": "ipython",
    "version": 3
   },
   "file_extension": ".py",
   "mimetype": "text/x-python",
   "name": "python",
   "nbconvert_exporter": "python",
   "pygments_lexer": "ipython3",
   "version": "3.8.5"
  }
 },
 "nbformat": 4,
 "nbformat_minor": 4
}
