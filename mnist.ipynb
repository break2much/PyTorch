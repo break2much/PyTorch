{
 "cells": [
  {
   "cell_type": "code",
   "execution_count": null,
   "metadata": {},
   "outputs": [],
   "source": [
    "from torchvision.datasets import MNIST\n",
    "\n",
    "train_dataset = MNIST(root='MNIST')\n",
    "len(train_dataset)"
   ]
  },
  {
   "cell_type": "code",
   "execution_count": null,
   "metadata": {},
   "outputs": [],
   "source": [
    "test_dataset = MNIST(root='MNIST',train = False)\n",
    "len(test_dataset)"
   ]
  },
  {
   "cell_type": "code",
   "execution_count": null,
   "metadata": {},
   "outputs": [],
   "source": [
    "import matplotlib.pyplot as plt\n",
    "\n",
    "image,label = train_dataset[0]\n",
    "\n",
    "print(image)\n",
    "plt.imshow(image,cmap = 'gray')"
   ]
  },
  {
   "cell_type": "code",
   "execution_count": null,
   "metadata": {},
   "outputs": [],
   "source": [
    "import torchvision.transforms as transforms\n",
    "\n",
    "train_dataset = MNIST(root='MNIST',transform = transforms.ToTensor())\n",
    "print(train_dataset[0])\n",
    "\n",
    "test_dataset = MNIST(root='MNIST',train = False,transform = transforms.ToTensor())\n",
    "print(test_dataset[0])"
   ]
  },
  {
   "cell_type": "code",
   "execution_count": null,
   "metadata": {},
   "outputs": [],
   "source": [
    "img_tensor = test_dataset[0][0]\n",
    "print(img_tensor[:,10:15,10:15])\n",
    "\n",
    "plt.imshow(img_tensor[0,5:25,5:25],cmap = 'gray')"
   ]
  },
  {
   "cell_type": "code",
   "execution_count": null,
   "metadata": {},
   "outputs": [],
   "source": [
    "import numpy as np\n",
    "\n",
    "def split_indices(dataset_len,val_percent):\n",
    "    validation_n = int(dataset_len*val_percent)\n",
    "    indx = np.random.permutation(dataset_len)\n",
    "    # first - train_indx, second - val_indx\n",
    "    return indx[validation_n:],indx[:validation_n]"
   ]
  },
  {
   "cell_type": "code",
   "execution_count": null,
   "metadata": {},
   "outputs": [],
   "source": [
    "train_indices, val_indices = split_indices(len(train_dataset),0.2)"
   ]
  },
  {
   "cell_type": "code",
   "execution_count": null,
   "metadata": {},
   "outputs": [],
   "source": [
    "from torch.utils.data import TensorDataset, DataLoader,SubsetRandomSampler\n",
    "\n",
    "batch_size_ = 100\n",
    "\n",
    "train_loader = DataLoader(train_dataset,\n",
    "                          batch_size= batch_size_,\n",
    "                          shuffle = False,\n",
    "                          sampler=SubsetRandomSampler(train_indices))\n",
    "val_loader = DataLoader(train_dataset,\n",
    "                        batch_size= batch_size_,\n",
    "                        shuffle = False,\n",
    "                        sampler=SubsetRandomSampler(val_indices))\n"
   ]
  },
  {
   "cell_type": "code",
   "execution_count": null,
   "metadata": {},
   "outputs": [],
   "source": [
    "for x_batch,y_batch in train_loader:\n",
    "    print(x_batch)\n",
    "    print(y_batch)"
   ]
  },
  {
   "cell_type": "code",
   "execution_count": null,
   "metadata": {},
   "outputs": [],
   "source": [
    "from torch.nn import Linear\n",
    "\n",
    "\n",
    "input_size = 28*28\n",
    "output_size = 10 #num of classes\n",
    "model = Linear(input_size,output_size)"
   ]
  },
  {
   "cell_type": "code",
   "execution_count": null,
   "metadata": {},
   "outputs": [],
   "source": [
    "print(model.weight.shape)\n",
    "print(model.bias.shape)"
   ]
  },
  {
   "cell_type": "code",
   "execution_count": null,
   "metadata": {},
   "outputs": [],
   "source": [
    "from torch.nn import Module\n",
    "\n",
    "class MnistModel(Module):\n",
    "    def __init__(self,input_size,output_size):\n",
    "        super().__init__()\n",
    "        self.linear = Linear(input_size,output_size)\n",
    "    \n",
    "    def forward(self,xb):\n",
    "        xb = xb.reshape(-1,input_size)\n",
    "        out = self.linear(xb)\n",
    "        return out"
   ]
  },
  {
   "cell_type": "code",
   "execution_count": null,
   "metadata": {},
   "outputs": [],
   "source": [
    "model = MnistModel(input_size,output_size)\n",
    "print(list(model.parameters()))"
   ]
  },
  {
   "cell_type": "code",
   "execution_count": null,
   "metadata": {},
   "outputs": [],
   "source": [
    "for images,labels in train_loader:\n",
    "    outputs = model(images)\n",
    "    break\n",
    "\n",
    "print(outputs.shape)\n",
    "#print(images)\n",
    "#print(images.shape)\n",
    "print(outputs)"
   ]
  },
  {
   "cell_type": "code",
   "execution_count": null,
   "metadata": {},
   "outputs": [],
   "source": [
    "from torch.nn.functional import softmax\n",
    "\n",
    "probs = softmax(outputs, dim = 1)\n",
    "\n",
    "print(probs)"
   ]
  },
  {
   "cell_type": "code",
   "execution_count": null,
   "metadata": {},
   "outputs": [],
   "source": [
    "import torch\n",
    "max_probs, pred = torch.max(probs,dim =1)\n",
    "print(max_probs, pred )"
   ]
  },
  {
   "cell_type": "code",
   "execution_count": null,
   "metadata": {},
   "outputs": [],
   "source": [
    "def accuracy(lbl_pred,lbl_true):\n",
    "    return torch.sum(lbl_pred==lbl_true) / len(lbl_pred)"
   ]
  },
  {
   "cell_type": "code",
   "execution_count": null,
   "metadata": {},
   "outputs": [],
   "source": [
    "from torch.nn.functional import cross_entropy\n",
    "from torch.optim import SGD\n",
    "opt = SGD(model.parameters(), lr = 0.001)\n",
    "\n",
    "n_epochs = 10\n",
    "for epoch in range(n_epochs):\n",
    "    for images,labels in train_loader:\n",
    "        opt.zero_grad()\n",
    "        y_pred = model(images)\n",
    "        probs = softmax(y_pred, dim = 1)\n",
    "        max_probs, pred = torch.max(probs,dim =1)\n",
    "        loss = cross_entropy(y_pred,labels)\n",
    "        accuracy_ = accuracy(pred,labels)\n",
    "        loss.backward()\n",
    "        opt.step()\n",
    "        print(f'Accuracy {epoch+1}/{n_epochs} : {accuracy_}')"
   ]
  },
  {
   "cell_type": "code",
   "execution_count": null,
   "metadata": {},
   "outputs": [],
   "source": [
    "img, label = test_dataset[10]\n",
    "\n",
    "def predict(model,img):\n",
    "    output = model(img)\n",
    "    probs = softmax(output, dim = 1)\n",
    "    _, pred = torch.max(probs,dim =1)\n",
    "    return pred.item()\n",
    "\n",
    "print(predict(model,img),label)"
   ]
  },
  {
   "cell_type": "code",
   "execution_count": null,
   "metadata": {},
   "outputs": [],
   "source": [
    "torch.save(model.state_dict(), 'mnist-logistic.pth')"
   ]
  },
  {
   "cell_type": "code",
   "execution_count": null,
   "metadata": {},
   "outputs": [],
   "source": [
    "model2 = MnistModel(input_size,output_size)\n",
    "model2.load_state_dict(torch.load('mnist-logistic.pth'))\n",
    "\n",
    "img, label = test_dataset[159]\n",
    "\n",
    "print('Predicted: ',predict(model,img))\n",
    "print('True: ',label)"
   ]
  }
 ],
 "metadata": {
  "interpreter": {
   "hash": "916dbcbb3f70747c44a77c7bcd40155683ae19c65e1c03b4aa3499c5328201f1"
  },
  "kernelspec": {
   "display_name": "Python 3.8.10 64-bit",
   "language": "python",
   "name": "python3"
  },
  "language_info": {
   "codemirror_mode": {
    "name": "ipython",
    "version": 3
   },
   "file_extension": ".py",
   "mimetype": "text/x-python",
   "name": "python",
   "nbconvert_exporter": "python",
   "pygments_lexer": "ipython3",
   "version": "3.8.10"
  },
  "orig_nbformat": 4
 },
 "nbformat": 4,
 "nbformat_minor": 2
}
