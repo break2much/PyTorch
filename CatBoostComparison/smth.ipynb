{
 "cells": [
  {
   "cell_type": "code",
   "execution_count": null,
   "metadata": {},
   "outputs": [],
   "source": [
    "import torch\n",
    "from sklearn.datasets import load_breast_cancer"
   ]
  },
  {
   "cell_type": "code",
   "execution_count": null,
   "metadata": {},
   "outputs": [],
   "source": [
    "dataset = load_breast_cancer()\n",
    "X = dataset['data']\n",
    "y = dataset['target']"
   ]
  },
  {
   "cell_type": "code",
   "execution_count": null,
   "metadata": {},
   "outputs": [],
   "source": [
    "from sklearn.preprocessing import StandardScaler\n",
    "\n",
    "scaler = StandardScaler()\n",
    "X_std =scaler.fit_transform(X)\n",
    "\n",
    "from sklearn.decomposition import PCA\n",
    "\n",
    "pca = PCA(10)\n",
    "X_reduced = pca.fit_transform(X_std)\n",
    "print(pca.explained_variance_ratio_)\n",
    "\n",
    "from sklearn.model_selection import train_test_split\n",
    "\n",
    "X_train,X_test ,y_train, y_test = train_test_split(X,y,random_state=42)"
   ]
  },
  {
   "cell_type": "code",
   "execution_count": null,
   "metadata": {},
   "outputs": [],
   "source": [
    "from sklearn.pipeline import Pipeline\n",
    "from sklearn.linear_model import LogisticRegression\n",
    "\n",
    "pipe1 = Pipeline([('scaler',StandardScaler()),('pca',PCA(5)),('model',LogisticRegression())])\n",
    "\n",
    "pipe1.fit(X_train,y_train)\n",
    "\n",
    "print(pipe1.score(X_test,y_test))\n"
   ]
  },
  {
   "cell_type": "code",
   "execution_count": null,
   "metadata": {},
   "outputs": [],
   "source": [
    "from sklearn.pipeline import Pipeline\n",
    "from sklearn.tree import DecisionTreeClassifier\n",
    "\n",
    "pipe = Pipeline([('pca',PCA(5)),('model',DecisionTreeClassifier())])\n",
    "\n",
    "pipe.fit(X_train,y_train)\n",
    "\n",
    "print(pipe.score(X_test,y_test))\n"
   ]
  },
  {
   "cell_type": "code",
   "execution_count": null,
   "metadata": {},
   "outputs": [],
   "source": [
    "from sklearn.pipeline import Pipeline\n",
    "from sklearn.ensemble import RandomForestClassifier\n",
    "\n",
    "pipe = Pipeline([('pca',PCA(5)),('model',RandomForestClassifier(n_estimators=50))])\n",
    "\n",
    "pipe.fit(X_train,y_train)\n",
    "\n",
    "print(pipe.score(X_test,y_test))\n"
   ]
  },
  {
   "cell_type": "code",
   "execution_count": null,
   "metadata": {},
   "outputs": [],
   "source": [
    "from sklearn.model_selection import GridSearchCV\n",
    "import catboost\n",
    "model = LogisticRegression()\n",
    "\n",
    "parameters  = [{'C':[.0001,.001,.01,.1, 1.0, 10., 100.],\n",
    "                'fit_intercept' : [True,False],\n",
    "                'max_iter': [1000,5000,10000,100000]},\n",
    "               {'max_depth': [3,5,7,10,13],\n",
    "                'criterion': ['gini','entropy']},\n",
    "               {'n_estimators':[20,50,100,200],\n",
    "                'max_depth': [3,5,7,10,13],\n",
    "                'criterion': ['gini','entropy']},\n",
    "               { 'iterations' : [100,200,500,700,1000],\n",
    "                'learning_rate': [0.001,0.01,0.1, 1.0,10.,100.],\n",
    "                'depth':[2,4,6,8,10] }\n",
    "                ]\n",
    "\n",
    "models = [('LogisticRegression',LogisticRegression()),\n",
    "          ('DecisionTreeClassifier',DecisionTreeClassifier()),\n",
    "          ('RandomForestClassifier',RandomForestClassifier()),\n",
    "          ('CatBoostClassifier',catboost.CatBoostClassifier())\n",
    "          ]\n",
    "\n",
    "for model,params in zip(models,parameters):\n",
    "    search = GridSearchCV(model[1],params)\n",
    "    search.fit(X_std,y_train)\n",
    "    print(f'{model[0]} best params: \\n {search.best_params_}')\n",
    "    print(f'Score: \\n {search.best_score_}')"
   ]
  }
 ],
 "metadata": {
  "interpreter": {
   "hash": "31f2aee4e71d21fbe5cf8b01ff0e069b9275f58929596ceb00d14d90e3e16cd6"
  },
  "kernelspec": {
   "display_name": "Python 3.8.10 64-bit",
   "language": "python",
   "name": "python3"
  },
  "language_info": {
   "codemirror_mode": {
    "name": "ipython",
    "version": 3
   },
   "file_extension": ".py",
   "mimetype": "text/x-python",
   "name": "python",
   "nbconvert_exporter": "python",
   "pygments_lexer": "ipython3",
   "version": "3.8.10"
  },
  "orig_nbformat": 4
 },
 "nbformat": 4,
 "nbformat_minor": 2
}
